{
 "cells": [
  {
   "cell_type": "code",
   "execution_count": null,
   "metadata": {},
   "outputs": [],
   "source": []
  },
  {
   "cell_type": "markdown",
   "metadata": {},
   "source": [
    "## Basic Supervised Linear Regression Algorithm\n",
    "\n",
    "- __Training Set__: Your dataset. This step will involve several sub-steps like _data-cleaning_, and _feature-scaling_ among others.\n",
    "-> \n",
    "- __Learning Algorithm__: The prepared _training set_ of data is fed into the learning algorithm, who's job it is to output the _function_ that will make the predictions sought.\n",
    "->\n",
    "- __Hypothesis__ (function that makes prediction). Hypothesis is the function which then will take in unknown inputs (inputs not in the original training set) and produce the prediction outputs.\n",
    "\n"
   ]
  }
 ],
 "metadata": {
  "kernelspec": {
   "display_name": "Python 3",
   "language": "python",
   "name": "python3"
  },
  "language_info": {
   "name": "python",
   "version": "3.10.1"
  }
 },
 "nbformat": 4,
 "nbformat_minor": 2
}
